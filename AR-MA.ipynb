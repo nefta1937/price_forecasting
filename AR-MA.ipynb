{
 "cells": [
  {
   "cell_type": "code",
   "execution_count": 1,
   "id": "33b94845-7c78-42a4-92d0-90c78319846c",
   "metadata": {},
   "outputs": [],
   "source": [
    "import pandas as pd\n",
    "import numpy as np\n",
    "import matplotlib.pyplot as plt\n",
    "import seaborn as sns\n",
    "from statsmodels.tsa.arima.model import ARIMA\n",
    "from statsmodels.graphics.tsaplots import plot_acf, plot_pacf\n",
    "from scipy.stats import norm"
   ]
  },
  {
   "cell_type": "code",
   "execution_count": 2,
   "id": "b6aa7656-63fd-4ab3-abea-bbaa85d559fa",
   "metadata": {},
   "outputs": [
    {
     "name": "stdout",
     "output_type": "stream",
     "text": [
      "    FECHA_IN  ALUMINIO_(USD/TON)  USD_CLP   YUAN_CLP  BARRIL_PETROLEO  TI_USA  \\\n",
      "0 2002-01-01         1371.363636   667.28  80.622078        19.416818  0.0175   \n",
      "1 2002-02-01         1371.080000   678.84  82.030079        20.275500  0.0175   \n",
      "2 2002-03-01         1404.985000   663.26  80.137981        23.696667  0.0175   \n",
      "3 2002-04-01         1370.385714   650.82  78.687501        25.728636  0.0175   \n",
      "4 2002-05-01         1344.427273   653.91  79.036117        25.345455  0.0175   \n",
      "\n",
      "   IPC_USA  TON_BARRAS_ALUM_IMP  PRECIO_ALUM_IMP  VALOR_TOTAL_IMP  ...  \\\n",
      "0    104.2           473.456006      2878.882057       1363024.00  ...   \n",
      "1    104.5           298.963345      3434.747561       1026863.62  ...   \n",
      "2    105.1           579.415210      2970.067629       1720902.36  ...   \n",
      "3    105.6           548.299753      2644.006079       1449707.88  ...   \n",
      "4    105.6           651.638162      2959.563639       1928564.61  ...   \n",
      "\n",
      "   VALOR_TOTAL_EXP  IMACEC    IPC  TI_CHILE   IPC_CHINA  TI_CN     INC_CN  \\\n",
      "0         55134.14   52.39   99.9      6.16  100.299999   5.85  62.382644   \n",
      "1         58141.11   49.57   99.9      5.83  101.400000   5.69  40.890604   \n",
      "2         45099.36   55.50  100.4      5.05  100.100000   5.31  54.134278   \n",
      "3        100542.08   54.83  100.8      4.75   99.799999   5.31  45.876890   \n",
      "4        101018.29   53.96  100.9      4.23   99.500000   5.31  46.985458   \n",
      "\n",
      "   IIPE_CL  IIPE_CN  IIPE_EUA  \n",
      "0   166.00   159.89    148.45  \n",
      "1   137.38   163.70    104.61  \n",
      "2    85.52   140.21     97.51  \n",
      "3   123.85   117.49    106.16  \n",
      "4   119.99    33.76     98.64  \n",
      "\n",
      "[5 rows x 22 columns]\n",
      "            ALUMINIO_(USD/TON)  USD_CLP   YUAN_CLP  BARRIL_PETROLEO  TI_USA  \\\n",
      "FECHA_IN                                                                      \n",
      "2002-01-01         1371.363636   667.28  80.622078        19.416818  0.0175   \n",
      "2002-02-01         1371.080000   678.84  82.030079        20.275500  0.0175   \n",
      "2002-03-01         1404.985000   663.26  80.137981        23.696667  0.0175   \n",
      "2002-04-01         1370.385714   650.82  78.687501        25.728636  0.0175   \n",
      "2002-05-01         1344.427273   653.91  79.036117        25.345455  0.0175   \n",
      "\n",
      "            IPC_USA  TON_BARRAS_ALUM_IMP  PRECIO_ALUM_IMP  VALOR_TOTAL_IMP  \\\n",
      "FECHA_IN                                                                     \n",
      "2002-01-01    104.2           473.456006      2878.882057       1363024.00   \n",
      "2002-02-01    104.5           298.963345      3434.747561       1026863.62   \n",
      "2002-03-01    105.1           579.415210      2970.067629       1720902.36   \n",
      "2002-04-01    105.6           548.299753      2644.006079       1449707.88   \n",
      "2002-05-01    105.6           651.638162      2959.563639       1928564.61   \n",
      "\n",
      "            TON_BARRAS_ALUM_EXP  ...  VALOR_TOTAL_EXP  IMACEC    IPC  \\\n",
      "FECHA_IN                         ...                                   \n",
      "2002-01-01             16.15832  ...         55134.14   52.39   99.9   \n",
      "2002-02-01             21.05678  ...         58141.11   49.57   99.9   \n",
      "2002-03-01             15.37473  ...         45099.36   55.50  100.4   \n",
      "2002-04-01             29.96147  ...        100542.08   54.83  100.8   \n",
      "2002-05-01             35.83450  ...        101018.29   53.96  100.9   \n",
      "\n",
      "            TI_CHILE   IPC_CHINA  TI_CN     INC_CN  IIPE_CL  IIPE_CN  IIPE_EUA  \n",
      "FECHA_IN                                                                        \n",
      "2002-01-01      6.16  100.299999   5.85  62.382644   166.00   159.89    148.45  \n",
      "2002-02-01      5.83  101.400000   5.69  40.890604   137.38   163.70    104.61  \n",
      "2002-03-01      5.05  100.100000   5.31  54.134278    85.52   140.21     97.51  \n",
      "2002-04-01      4.75   99.799999   5.31  45.876890   123.85   117.49    106.16  \n",
      "2002-05-01      4.23   99.500000   5.31  46.985458   119.99    33.76     98.64  \n",
      "\n",
      "[5 rows x 21 columns]\n"
     ]
    }
   ],
   "source": [
    "# Cargar los datos desde el archivo Excel\n",
    "df = pd.read_excel('C:/Users/nef_m/OneDrive/Desktop/DATOS TESIS MGO/DATOS POR MES.xlsx')\n",
    "\n",
    "# Mostrar las primeras filas del DataFrame para verificar la estructura de los datos\n",
    "print(df.head())\n",
    "\n",
    "# Convertir la columna 'FECHA_IN' a formato datetime y establecerla como índice\n",
    "df['FECHA_IN'] = pd.to_datetime(df['FECHA_IN'], format='%d-%m-%Y')\n",
    "df.set_index('FECHA_IN', inplace=True)\n",
    "\n",
    "# Mostrar el DataFrame con la columna de fecha ajustada\n",
    "print(df.head())"
   ]
  },
  {
   "cell_type": "code",
   "execution_count": 3,
   "id": "b092ccbd-b6b2-48d0-948d-60ee69330632",
   "metadata": {},
   "outputs": [
    {
     "name": "stdout",
     "output_type": "stream",
     "text": [
      "       ALUMINIO_(USD/TON)     USD_CLP    YUAN_CLP  BARRIL_PETROLEO  \\\n",
      "count          263.000000  263.000000  263.000000       263.000000   \n",
      "mean          2019.908976  627.203080   89.985768        69.685439   \n",
      "std            442.119723  117.709689   18.475208        27.856772   \n",
      "min           1293.357143  442.940000   62.583246        18.378500   \n",
      "25%           1727.574432  527.080000   74.434690        48.338636   \n",
      "50%           1934.142857  618.390000   86.728118        66.138571   \n",
      "75%           2316.835000  702.940000  100.633565        91.171148   \n",
      "max           3498.373043  955.890000  141.603582       132.718182   \n",
      "\n",
      "           TI_USA     IPC_USA  TON_BARRAS_ALUM_IMP  PRECIO_ALUM_IMP  \\\n",
      "count  263.000000  263.000000           263.000000       263.000000   \n",
      "mean     0.013831  131.976445           988.576097      3611.165320   \n",
      "std      0.017125   16.433312           504.352868       552.723152   \n",
      "min      0.000000  104.200000           155.699708      1900.332225   \n",
      "25%      0.000000  120.334500           591.986243      3211.933482   \n",
      "50%      0.010000  132.892000           903.623700      3545.174555   \n",
      "75%      0.020000  141.850000          1353.250288      3983.800055   \n",
      "max      0.052500  171.677000          2588.659197      5352.655500   \n",
      "\n",
      "       VALOR_TOTAL_IMP  TON_BARRAS_ALUM_EXP  ...  VALOR_TOTAL_EXP      IMACEC  \\\n",
      "count     2.630000e+02           263.000000  ...     2.630000e+02  263.000000   \n",
      "mean      3.609783e+06            35.660967  ...     1.362424e+05   83.687414   \n",
      "std       1.921502e+06            87.740644  ...     1.930761e+05   17.080717   \n",
      "min       4.851175e+05             0.045000  ...     3.950000e+02   49.570000   \n",
      "25%       2.276632e+06             7.273320  ...     3.127838e+04   70.145000   \n",
      "50%       3.473268e+06            23.809730  ...     7.884878e+04   86.560000   \n",
      "75%       4.648675e+06            45.488260  ...     1.842126e+05   97.125000   \n",
      "max       9.184187e+06          1374.700220  ...     1.635676e+06  120.210000   \n",
      "\n",
      "              IPC    TI_CHILE   IPC_CHINA       TI_CN      INC_CN     IIPE_CL  \\\n",
      "count  263.000000  263.000000  263.000000  263.000000  263.000000  263.000000   \n",
      "mean   135.573384    3.919202  126.843374    5.294221  156.694007  138.601103   \n",
      "std     22.133701    2.490855   16.107833    0.884767  119.744475   87.828380   \n",
      "min     99.900000    0.500000   97.900000    4.350000   23.716429   31.600000   \n",
      "25%    115.550000    2.500000  111.950000    4.350000   64.043420   77.845000   \n",
      "50%    134.500000    3.350000  129.802790    5.310000  120.133851  109.270000   \n",
      "75%    151.950000    5.000000  140.053346    6.000000  223.456432  172.170000   \n",
      "max    182.500000   11.250000  149.803346    7.470000  661.828048  454.580000   \n",
      "\n",
      "          IIPE_CN    IIPE_EUA  \n",
      "count  263.000000  263.000000  \n",
      "mean   288.171635  141.017871  \n",
      "std    256.821558   65.931749  \n",
      "min     26.140000   44.780000  \n",
      "25%     93.415000   96.835000  \n",
      "50%    161.980000  127.230000  \n",
      "75%    464.970000  170.890000  \n",
      "max    970.830000  503.960000  \n",
      "\n",
      "[8 rows x 21 columns]\n"
     ]
    }
   ],
   "source": [
    "# Mostrar estadísticas descriptivas\n",
    "resumen = df.describe()\n",
    "print(resumen)\n",
    "resumen.to_excel('C:/Users/nef_m/OneDrive/Desktop/DATOS TESIS MGO/resumen.xlsx')"
   ]
  },
  {
   "cell_type": "code",
   "execution_count": 4,
   "id": "ace82952-04cc-481f-8e8e-840823c59569",
   "metadata": {},
   "outputs": [
    {
     "name": "stdout",
     "output_type": "stream",
     "text": [
      "            ALUMINIO_(USD/TON)  USD_CLP   YUAN_CLP  BARRIL_PETROLEO  TI_USA  \\\n",
      "FECHA_IN                                                                      \n",
      "2002-01-01         1371.363636   667.28  80.622078        19.416818  0.0175   \n",
      "2002-02-01         1371.080000   678.84  82.030079        20.275500  0.0175   \n",
      "2002-03-01         1404.985000   663.26  80.137981        23.696667  0.0175   \n",
      "2002-04-01         1370.385714   650.82  78.687501        25.728636  0.0175   \n",
      "2002-05-01         1344.427273   653.91  79.036117        25.345455  0.0175   \n",
      "\n",
      "            IPC_USA  TON_BARRAS_ALUM_IMP  PRECIO_ALUM_IMP  VALOR_TOTAL_IMP  \\\n",
      "FECHA_IN                                                                     \n",
      "2002-01-01    104.2           473.456006      2878.882057       1363024.00   \n",
      "2002-02-01    104.5           298.963345      3434.747561       1026863.62   \n",
      "2002-03-01    105.1           579.415210      2970.067629       1720902.36   \n",
      "2002-04-01    105.6           548.299753      2644.006079       1449707.88   \n",
      "2002-05-01    105.6           651.638162      2959.563639       1928564.61   \n",
      "\n",
      "            TON_BARRAS_ALUM_EXP  ...  VALOR_TOTAL_EXP_t   IMACEC_t     IPC_t  \\\n",
      "FECHA_IN                         ...                                           \n",
      "2002-01-01             16.15832  ...                NaN        NaN       NaN   \n",
      "2002-02-01             21.05678  ...           5.453917  -5.382707  0.000000   \n",
      "2002-03-01             15.37473  ...         -22.431202  11.962881  0.500501   \n",
      "2002-04-01             29.96147  ...         122.934605  -1.207207  0.398406   \n",
      "2002-05-01             35.83450  ...           0.473642  -1.586723  0.099206   \n",
      "\n",
      "            TI_CHILE_t  IPC_CHINA_t   TI_CN_t   INC_CN_t  IIPE_CL_t  \\\n",
      "FECHA_IN                                                              \n",
      "2002-01-01         NaN          NaN       NaN        NaN        NaN   \n",
      "2002-02-01   -5.357143     1.096710 -2.735043 -34.451954 -17.240964   \n",
      "2002-03-01  -13.379074    -1.282051 -6.678383  32.388061 -37.749308   \n",
      "2002-04-01   -5.940594    -0.299701  0.000000 -15.253530  44.819925   \n",
      "2002-05-01  -10.947368    -0.300601  0.000000   2.416398  -3.116673   \n",
      "\n",
      "            IIPE_CN_t  IIPE_EUA_t  \n",
      "FECHA_IN                           \n",
      "2002-01-01        NaN         NaN  \n",
      "2002-02-01   2.382888  -29.531829  \n",
      "2002-03-01 -14.349420   -6.787114  \n",
      "2002-04-01 -16.204265    8.870885  \n",
      "2002-05-01 -71.265640   -7.083647  \n",
      "\n",
      "[5 rows x 42 columns]\n"
     ]
    }
   ],
   "source": [
    "for columna in df.columns:\n",
    "    df[f'{columna}_t'] = (df[columna]-df[columna].shift(1)) / df[columna].shift(1) * 100\n",
    "print(df.head())\n"
   ]
  },
  {
   "cell_type": "code",
   "execution_count": 5,
   "id": "bd8e5ba8-ad8e-48c0-b87a-f38fad81ea1b",
   "metadata": {},
   "outputs": [
    {
     "name": "stdout",
     "output_type": "stream",
     "text": [
      "       ALUMINIO_(USD/TON)     USD_CLP    YUAN_CLP  BARRIL_PETROLEO  \\\n",
      "count          263.000000  263.000000  263.000000       263.000000   \n",
      "mean          2019.908976  627.203080   89.985768        69.685439   \n",
      "std            442.119723  117.709689   18.475208        27.856772   \n",
      "min           1293.357143  442.940000   62.583246        18.378500   \n",
      "25%           1727.574432  527.080000   74.434690        48.338636   \n",
      "50%           1934.142857  618.390000   86.728118        66.138571   \n",
      "75%           2316.835000  702.940000  100.633565        91.171148   \n",
      "max           3498.373043  955.890000  141.603582       132.718182   \n",
      "\n",
      "           TI_USA     IPC_USA  TON_BARRAS_ALUM_IMP  PRECIO_ALUM_IMP  \\\n",
      "count  263.000000  263.000000           263.000000       263.000000   \n",
      "mean     0.013831  131.976445           988.576097      3611.165320   \n",
      "std      0.017125   16.433312           504.352868       552.723152   \n",
      "min      0.000000  104.200000           155.699708      1900.332225   \n",
      "25%      0.000000  120.334500           591.986243      3211.933482   \n",
      "50%      0.010000  132.892000           903.623700      3545.174555   \n",
      "75%      0.020000  141.850000          1353.250288      3983.800055   \n",
      "max      0.052500  171.677000          2588.659197      5352.655500   \n",
      "\n",
      "       VALOR_TOTAL_IMP  TON_BARRAS_ALUM_EXP  ...  VALOR_TOTAL_EXP_t  \\\n",
      "count     2.630000e+02           263.000000  ...         262.000000   \n",
      "mean      3.609783e+06            35.660967  ...         206.392578   \n",
      "std       1.921502e+06            87.740644  ...        1235.981709   \n",
      "min       4.851175e+05             0.045000  ...         -99.457924   \n",
      "25%       2.276632e+06             7.273320  ...         -42.381825   \n",
      "50%       3.473268e+06            23.809730  ...          -0.072675   \n",
      "75%       4.648675e+06            45.488260  ...          93.924456   \n",
      "max       9.184187e+06          1374.700220  ...       17330.551899   \n",
      "\n",
      "         IMACEC_t       IPC_t  TI_CHILE_t  IPC_CHINA_t     TI_CN_t  \\\n",
      "count  262.000000  262.000000  262.000000   262.000000  262.000000   \n",
      "mean     0.454114    0.230769    0.963769     0.151338   -0.098796   \n",
      "std      5.775234    0.321117   12.933909     0.487797    1.647061   \n",
      "min    -13.767573   -0.936768  -63.768116    -1.282051  -16.183206   \n",
      "25%     -3.157113    0.057135    0.000000    -0.147597    0.000000   \n",
      "50%     -0.914927    0.204291    0.000000     0.080670    0.000000   \n",
      "75%      4.261827    0.398011    2.230672     0.408159    0.000000   \n",
      "max     16.304897    1.222494  100.000000     2.220325    4.838710   \n",
      "\n",
      "         INC_CN_t   IIPE_CL_t   IIPE_CN_t  IIPE_EUA_t  \n",
      "count  262.000000  262.000000  262.000000  262.000000  \n",
      "mean     7.534782    5.188546   12.104337    3.957749  \n",
      "std     41.796963   33.664011   58.440717   31.192420  \n",
      "min    -70.157231  -57.164005  -82.916149  -60.101167  \n",
      "25%    -21.362660  -17.715433  -22.104870  -16.645851  \n",
      "50%      0.138444    1.929163    2.943641   -1.490410  \n",
      "75%     29.479054   21.786730   29.206072   18.926959  \n",
      "max    214.097605  192.108881  423.869664  193.457368  \n",
      "\n",
      "[8 rows x 42 columns]\n"
     ]
    },
    {
     "name": "stderr",
     "output_type": "stream",
     "text": [
      "C:\\Users\\nef_m\\AppData\\Local\\Programs\\Python\\Python312\\Lib\\site-packages\\pandas\\core\\nanops.py:1010: RuntimeWarning: invalid value encountered in subtract\n",
      "  sqr = _ensure_numeric((avg - values) ** 2)\n"
     ]
    }
   ],
   "source": [
    "resumen = df.describe()\n",
    "print(resumen)"
   ]
  },
  {
   "cell_type": "code",
   "execution_count": 6,
   "id": "5adbc368-d556-4093-891b-566bca7e261e",
   "metadata": {},
   "outputs": [],
   "source": [
    "df_al = pd.DataFrame({\n",
    "    'PRECIO_ALUM_IMP': df['PRECIO_ALUM_IMP'],\n",
    "    'PRECIO_ALUM_IMP_t': df['PRECIO_ALUM_IMP_t']\n",
    "})"
   ]
  },
  {
   "cell_type": "code",
   "execution_count": 7,
   "id": "6d0f9057-a137-4b6d-8cb6-17d09c83ac70",
   "metadata": {},
   "outputs": [],
   "source": [
    "df_al.drop(df.index[0], inplace=True)"
   ]
  },
  {
   "cell_type": "code",
   "execution_count": 8,
   "id": "59dac066-ce7e-408b-9d28-95e9a9d33369",
   "metadata": {},
   "outputs": [
    {
     "name": "stdout",
     "output_type": "stream",
     "text": [
      "(256, 2) (6, 2)\n",
      "       PRECIO_ALUM_IMP  PRECIO_ALUM_IMP_t\n",
      "count       256.000000         256.000000\n",
      "mean       3602.542010           0.576734\n",
      "std         551.658320           9.482653\n",
      "min        1900.332225         -36.667765\n",
      "25%        3208.033400          -5.247933\n",
      "50%        3542.143114           0.562302\n",
      "75%        3969.869367           6.001311\n",
      "max        5352.655500          51.732716\n"
     ]
    }
   ],
   "source": [
    "n_obs=6\n",
    "X_train, X_test = df_al[0:-n_obs], df_al[-n_obs:]\n",
    "print(X_train.shape, X_test.shape)\n",
    "res = X_train.describe()\n",
    "print(res)"
   ]
  },
  {
   "cell_type": "code",
   "execution_count": 9,
   "id": "df7699ed-4d51-4cde-a6a3-3ae638b85f89",
   "metadata": {},
   "outputs": [
    {
     "name": "stderr",
     "output_type": "stream",
     "text": [
      "C:\\Users\\nef_m\\AppData\\Local\\Programs\\Python\\Python312\\Lib\\site-packages\\statsmodels\\tsa\\base\\tsa_model.py:473: ValueWarning: No frequency information was provided, so inferred frequency MS will be used.\n",
      "  self._init_dates(dates, freq)\n",
      "C:\\Users\\nef_m\\AppData\\Local\\Programs\\Python\\Python312\\Lib\\site-packages\\statsmodels\\tsa\\base\\tsa_model.py:473: ValueWarning: No frequency information was provided, so inferred frequency MS will be used.\n",
      "  self._init_dates(dates, freq)\n",
      "C:\\Users\\nef_m\\AppData\\Local\\Programs\\Python\\Python312\\Lib\\site-packages\\statsmodels\\tsa\\base\\tsa_model.py:473: ValueWarning: No frequency information was provided, so inferred frequency MS will be used.\n",
      "  self._init_dates(dates, freq)\n"
     ]
    }
   ],
   "source": [
    "from statsmodels.tsa.arima.model import ARIMA\n",
    "model = ARIMA(X_train['PRECIO_ALUM_IMP'], order=(1,0,0)) # p, d, q deben ser números enteros\n",
    "results = model.fit()"
   ]
  },
  {
   "cell_type": "code",
   "execution_count": 10,
   "id": "fb3be66d-9d43-43b8-85c5-0cc9621d02d8",
   "metadata": {},
   "outputs": [
    {
     "name": "stdout",
     "output_type": "stream",
     "text": [
      "FECHA_IN\n",
      "2023-06-01    3958.406777\n",
      "Name: PRECIO_ALUM_IMP, dtype: float64\n",
      "FECHA_IN\n",
      "2023-06-01    3958.406777\n",
      "2023-07-01    4107.780336\n",
      "2023-08-01    3930.282100\n",
      "Name: PRECIO_ALUM_IMP, dtype: float64\n"
     ]
    }
   ],
   "source": [
    "print(X_test['PRECIO_ALUM_IMP'].iloc[:1])\n",
    "print(X_test['PRECIO_ALUM_IMP'].iloc[:3])"
   ]
  },
  {
   "cell_type": "code",
   "execution_count": 11,
   "id": "6834c876-8aee-4d00-b5aa-6893b24f3f4e",
   "metadata": {},
   "outputs": [
    {
     "name": "stdout",
     "output_type": "stream",
     "text": [
      "2023-06-01    4022.606099\n",
      "2023-07-01    3955.239742\n",
      "2023-08-01    3898.677040\n",
      "2023-09-01    3851.185394\n",
      "2023-10-01    3811.310063\n",
      "2023-11-01    3777.829605\n",
      "Freq: MS, Name: predicted_mean, dtype: float64\n",
      "FECHA_IN\n",
      "2023-06-01    3958.406777\n",
      "2023-07-01    4107.780336\n",
      "2023-08-01    3930.282100\n",
      "2023-09-01    4112.954174\n",
      "2023-10-01    3830.759747\n",
      "2023-11-01    4666.659224\n",
      "Name: PRECIO_ALUM_IMP, dtype: float64\n"
     ]
    }
   ],
   "source": [
    "forecast = results.forecast(steps=6)\n",
    "print(forecast)\n",
    "print(X_test['PRECIO_ALUM_IMP'])\n"
   ]
  },
  {
   "cell_type": "code",
   "execution_count": 17,
   "id": "a266d1df-1d70-4793-926a-c81150ea0389",
   "metadata": {},
   "outputs": [],
   "source": [
    "from sklearn.metrics import mean_squared_error, mean_absolute_error, r2_score\n",
    "\n",
    "def calculate_metrics(y_true, y_pred):\n",
    "    # Calcular MSE\n",
    "    mse = mean_squared_error(y_true, y_pred)\n",
    "    \n",
    "    # Calcular RMSE\n",
    "    rmse = np.sqrt(mse)\n",
    "    \n",
    "    # Calcular MAE\n",
    "    mae = mean_absolute_error(y_true, y_pred)\n",
    "    \n",
    "    # Calcular MAPE\n",
    "    mape = np.mean(np.abs((y_true - y_pred) / y_true)) * 100\n",
    "    \n",
    "    # Calcular R^2\n",
    "    r2 = r2_score(y_true, y_pred)\n",
    "    \n",
    "    return mse, rmse, mae, mape, r2"
   ]
  },
  {
   "cell_type": "code",
   "execution_count": 18,
   "id": "6916123e-1114-4843-bffd-c18d483e698d",
   "metadata": {},
   "outputs": [
    {
     "name": "stderr",
     "output_type": "stream",
     "text": [
      "C:\\Users\\nef_m\\AppData\\Local\\Programs\\Python\\Python312\\Lib\\site-packages\\sklearn\\metrics\\_regression.py:1187: UndefinedMetricWarning: R^2 score is not well-defined with less than two samples.\n",
      "  warnings.warn(msg, UndefinedMetricWarning)\n"
     ]
    }
   ],
   "source": [
    "data = {\n",
    "    'SERIE':[],\n",
    "    'MSE':[],\n",
    "    'RMSE':[],\n",
    "    'MAE':[],\n",
    "    'MAPE':[],\n",
    "    'R2':[]\n",
    "}\n",
    "df_medidas_1 = pd.DataFrame(data)\n",
    "df_medidas_3 = pd.DataFrame(data)\n",
    "df_medidas_6 = pd.DataFrame(data)\n",
    "\n",
    "    #medidas a 6 meses        \n",
    "mse, rmse, mae, mape, r2 = calculate_metrics(X_test['PRECIO_ALUM_IMP'], forecast)\n",
    "datos_6 = pd.Series({'SERIE': 'AR1', 'MSE': mse, 'RMSE': rmse, 'MAE': mae, 'MAPE': mape,'R2':r2})\n",
    "    #medidas a 3 meses\n",
    "mse, rmse, mae, mape, r2 = calculate_metrics(X_test['PRECIO_ALUM_IMP'][:3], forecast[:3])\n",
    "datos_3 = pd.Series({'SERIE': 'AR1', 'MSE': mse, 'RMSE': rmse, 'MAE': mae, 'MAPE': mape,'R2':r2})\n",
    "    #medidas a 1 mes\n",
    "mse, rmse, mae, mape, r2 = calculate_metrics(X_test['PRECIO_ALUM_IMP'][:1], forecast[:1])\n",
    "datos_1 = pd.Series({'SERIE': 'AR1', 'MSE': mse, 'RMSE': rmse, 'MAE': mae, 'MAPE': mape,'R2':r2})\n",
    "#\n",
    "df_medidas_1.loc[len(df_medidas_1)] = datos_1\n",
    "df_medidas_3.loc[len(df_medidas_3)] = datos_3\n",
    "df_medidas_6.loc[len(df_medidas_6)] = datos_6\n",
    "\n",
    "df_medidas_1.to_excel('C:/Users/nef_m/OneDrive/Desktop/DATOS TESIS MGO/medidas AR_1.xlsx')\n",
    "df_medidas_3.to_excel('C:/Users/nef_m/OneDrive/Desktop/DATOS TESIS MGO/medidas AR_3.xlsx')\n",
    "df_medidas_6.to_excel('C:/Users/nef_m/OneDrive/Desktop/DATOS TESIS MGO/medidas AR_6.xlsx')"
   ]
  },
  {
   "cell_type": "code",
   "execution_count": 19,
   "id": "ca3319ba-53b0-4148-a60e-34025188fad4",
   "metadata": {},
   "outputs": [
    {
     "name": "stderr",
     "output_type": "stream",
     "text": [
      "C:\\Users\\nef_m\\AppData\\Local\\Programs\\Python\\Python312\\Lib\\site-packages\\sklearn\\metrics\\_regression.py:1187: UndefinedMetricWarning: R^2 score is not well-defined with less than two samples.\n",
      "  warnings.warn(msg, UndefinedMetricWarning)\n"
     ]
    }
   ],
   "source": [
    "data = {\n",
    "    'SERIE':[],\n",
    "    'MSE':[],\n",
    "    'RMSE':[],\n",
    "    'MAE':[],\n",
    "    'MAPE':[],\n",
    "    'R2':[]\n",
    "}\n",
    "df_medidas_1 = pd.DataFrame(data)\n",
    "df_medidas_3 = pd.DataFrame(data)\n",
    "df_medidas_6 = pd.DataFrame(data)\n",
    "\n",
    "    #medidas a 6 meses        \n",
    "mse, rmse, mae, mape, r2 = calculate_metrics(X_test['PRECIO_ALUM_IMP'], forecast_)\n",
    "datos_6 = pd.Series({'SERIE': 'MA1', 'MSE': mse, 'RMSE': rmse, 'MAE': mae, 'MAPE': mape,'R2':r2})\n",
    "    #medidas a 3 meses\n",
    "mse, rmse, mae, mape, r2 = calculate_metrics(X_test['PRECIO_ALUM_IMP'][:3], forecast_[:3])\n",
    "datos_3 = pd.Series({'SERIE': 'MA1', 'MSE': mse, 'RMSE': rmse, 'MAE': mae, 'MAPE': mape,'R2':r2})\n",
    "    #medidas a 1 mes\n",
    "mse, rmse, mae, mape, r2 = calculate_metrics(X_test['PRECIO_ALUM_IMP'][:1], forecast_[:1])\n",
    "datos_1 = pd.Series({'SERIE': 'MA1', 'MSE': mse, 'RMSE': rmse, 'MAE': mae, 'MAPE': mape,'R2':r2})\n",
    "#\n",
    "df_medidas_1.loc[len(df_medidas_1)] = datos_1\n",
    "df_medidas_3.loc[len(df_medidas_3)] = datos_3\n",
    "df_medidas_6.loc[len(df_medidas_6)] = datos_6\n",
    "\n",
    "df_medidas_1.to_excel('C:/Users/nef_m/OneDrive/Desktop/DATOS TESIS MGO/medidas MA_1.xlsx')\n",
    "df_medidas_3.to_excel('C:/Users/nef_m/OneDrive/Desktop/DATOS TESIS MGO/medidas MA_3.xlsx')\n",
    "df_medidas_6.to_excel('C:/Users/nef_m/OneDrive/Desktop/DATOS TESIS MGO/medidas MA_6.xlsx')"
   ]
  },
  {
   "cell_type": "code",
   "execution_count": 13,
   "id": "ce94d6c3-da82-4313-8f8a-46ac8d074c6c",
   "metadata": {},
   "outputs": [
    {
     "name": "stdout",
     "output_type": "stream",
     "text": [
      "{'SERIE': 'AR', 'MSE': 147884.7236548404, 'RMSE': 384.5578287525043, 'MAE': 236.39884313385974, 'MAPE': 0.053430073288283274, 'R2': -1.0044631040238223}\n",
      "{'SERIE': 'AR', 'MSE': 9463.021824219904, 'RMSE': 97.27806445555906, 'MAE': 82.7816584927911, 'MAPE': 0.02046481753855847, 'R2': -0.5595793754671865}\n",
      "{'SERIE': 'AR', 'MSE': 4121.552930185636, 'RMSE': 64.19932188259963, 'MAE': 64.19932188259963, 'MAPE': 0.01621847513369986, 'R2': nan}\n"
     ]
    },
    {
     "name": "stderr",
     "output_type": "stream",
     "text": [
      "C:\\Users\\nef_m\\AppData\\Local\\Programs\\Python\\Python312\\Lib\\site-packages\\sklearn\\metrics\\_regression.py:1187: UndefinedMetricWarning: R^2 score is not well-defined with less than two samples.\n",
      "  warnings.warn(msg, UndefinedMetricWarning)\n"
     ]
    }
   ],
   "source": [
    "from sklearn.metrics import mean_squared_error, mean_absolute_error, mean_absolute_percentage_error, r2_score\n",
    "\n",
    "# Calcular el Error Cuadrático Medio (MSE)\n",
    "mse = mean_squared_error(X_test['PRECIO_ALUM_IMP'], forecast)\n",
    "# Calcular la Raíz del Error Cuadrático Medio (RMSE)\n",
    "rmse = np.sqrt(mse)\n",
    "# Calcular el Error Absoluto Medio (MAE)\n",
    "mae = mean_absolute_error(X_test['PRECIO_ALUM_IMP'], forecast)\n",
    "# Calcular el Error Porcentual Absoluto Medio (MAPE)\n",
    "mape = mean_absolute_percentage_error(X_test['PRECIO_ALUM_IMP'], forecast)\n",
    "# Calcular el Coeficiente de Determinación (R2)\n",
    "r2 = r2_score(X_test['PRECIO_ALUM_IMP'], forecast)\n",
    "medidas = {\n",
    "    'SERIE': 'AR',\n",
    "    'MSE': mse, \n",
    "    'RMSE': rmse, \n",
    "    'MAE': mae, \n",
    "    'MAPE': mape, \n",
    "    'R2': r2,\n",
    "}\n",
    "print(medidas)\n",
    "# Convertir el diccionario en un DataFrame de pandas\n",
    "df_medidas = pd.DataFrame(medidas, index=[0])\n",
    "df_medidas_3 = pd.DataFrame(medidas, index=[0])\n",
    "df_medidas_1 = pd.DataFrame(medidas, index=[0])\n",
    "\n",
    "df_medidas.to_excel('C:/Users/nef_m/OneDrive/Desktop/DATOS TESIS MGO/medidas AR - 6.xlsx')\n",
    "mse_3 = mean_squared_error(X_test['PRECIO_ALUM_IMP'][:3], forecast[:3])\n",
    "rmse_3 = np.sqrt(mse_3)\n",
    "mae_3 = mean_absolute_error(X_test['PRECIO_ALUM_IMP'][:3], forecast[:3])\n",
    "mape_3 = mean_absolute_percentage_error(X_test['PRECIO_ALUM_IMP'][:3], forecast[:3])\n",
    "r2_3 = r2_score(X_test['PRECIO_ALUM_IMP'][:3], forecast[:3])\n",
    "# Convertir el diccionario en un DataFrame de pandas\n",
    "df_medidas = pd.DataFrame(medidas, index=[0])\n",
    "medidas_3 = {\n",
    "    'SERIE': 'AR',\n",
    "    'MSE': mse_3, \n",
    "    'RMSE': rmse_3, \n",
    "    'MAE': mae_3, \n",
    "    'MAPE': mape_3, \n",
    "    'R2': r2_3,\n",
    "}\n",
    "print(medidas_3)\n",
    "df_medidas_3.to_excel('C:/Users/nef_m/OneDrive/Desktop/DATOS TESIS MGO/medidas AR - 3.xlsx')\n",
    "\n",
    "mse_1 = mean_squared_error(X_test['PRECIO_ALUM_IMP'][:1], forecast[:1])\n",
    "rmse_1 = np.sqrt(mse_1)\n",
    "mae_1 = mean_absolute_error(X_test['PRECIO_ALUM_IMP'][:1], forecast[:1])\n",
    "mape_1 = mean_absolute_percentage_error(X_test['PRECIO_ALUM_IMP'][:1], forecast[:1])\n",
    "r2_1 = r2_score(X_test['PRECIO_ALUM_IMP'][:1], forecast[:1])\n",
    "\n",
    "medidas_1 = {\n",
    "    'SERIE': 'AR',\n",
    "    'MSE': mse_1, \n",
    "    'RMSE': rmse_1, \n",
    "    'MAE': mae_1, \n",
    "    'MAPE': mape_1, \n",
    "    'R2': r2_1,\n",
    "}\n",
    "print(medidas_1)\n",
    "df_medidas_1.to_excel('C:/Users/nef_m/OneDrive/Desktop/DATOS TESIS MGO/medidas AR - 1.xlsx')"
   ]
  },
  {
   "cell_type": "code",
   "execution_count": null,
   "id": "7f3bd255-3f89-413c-977b-9f4729e39268",
   "metadata": {},
   "outputs": [],
   "source": [
    "print(forecast)\n"
   ]
  },
  {
   "cell_type": "code",
   "execution_count": 16,
   "id": "b9980c0e-a857-4330-9323-376c2c6f45c7",
   "metadata": {
    "scrolled": true
   },
   "outputs": [
    {
     "name": "stderr",
     "output_type": "stream",
     "text": [
      "C:\\Users\\nef_m\\AppData\\Local\\Programs\\Python\\Python312\\Lib\\site-packages\\statsmodels\\tsa\\base\\tsa_model.py:473: ValueWarning: No frequency information was provided, so inferred frequency MS will be used.\n",
      "  self._init_dates(dates, freq)\n",
      "C:\\Users\\nef_m\\AppData\\Local\\Programs\\Python\\Python312\\Lib\\site-packages\\statsmodels\\tsa\\base\\tsa_model.py:473: ValueWarning: No frequency information was provided, so inferred frequency MS will be used.\n",
      "  self._init_dates(dates, freq)\n",
      "C:\\Users\\nef_m\\AppData\\Local\\Programs\\Python\\Python312\\Lib\\site-packages\\statsmodels\\tsa\\base\\tsa_model.py:473: ValueWarning: No frequency information was provided, so inferred frequency MS will be used.\n",
      "  self._init_dates(dates, freq)\n"
     ]
    },
    {
     "name": "stdout",
     "output_type": "stream",
     "text": [
      "FECHA_IN\n",
      "2023-06-01    3958.406777\n",
      "2023-07-01    4107.780336\n",
      "2023-08-01    3930.282100\n",
      "2023-09-01    4112.954174\n",
      "2023-10-01    3830.759747\n",
      "2023-11-01    4666.659224\n",
      "Name: PRECIO_ALUM_IMP, dtype: float64\n"
     ]
    },
    {
     "name": "stderr",
     "output_type": "stream",
     "text": [
      "C:\\Users\\nef_m\\AppData\\Local\\Programs\\Python\\Python312\\Lib\\site-packages\\sklearn\\metrics\\_regression.py:1187: UndefinedMetricWarning: R^2 score is not well-defined with less than two samples.\n",
      "  warnings.warn(msg, UndefinedMetricWarning)\n"
     ]
    }
   ],
   "source": [
    "model_ = ARIMA(X_train['PRECIO_ALUM_IMP'], order=(0,0,1)) # p, d, q deben ser números enteros\n",
    "results_ = model_.fit()\n",
    "forecast_ = results_.forecast(steps=6)\n",
    "\n",
    "data = {\n",
    "    'SERIE':[],\n",
    "    'MSE':[],\n",
    "    'RMSE':[],\n",
    "    'MAE':[],\n",
    "    'MAPE':[],\n",
    "    'R2':[],\n",
    "}\n",
    "\n",
    "df_medidas_1 = pd.DataFrame(data)\n",
    "df_medidas_3 = pd.DataFrame(data)\n",
    "df_medidas_6 = pd.DataFrame(data)\n",
    "\n",
    "print(X_test['PRECIO_ALUM_IMP'])\n",
    "# Calcular el Error Cuadrático Medio (MSE)\n",
    "mse = mean_squared_error(X_test['PRECIO_ALUM_IMP'][:6], forecast_[:6])\n",
    "# Calcular la Raíz del Error Cuadrático Medio (RMSE)\n",
    "rmse = np.sqrt(mse)\n",
    "# Calcular el Error Absoluto Medio (MAE)\n",
    "mae = mean_absolute_error(X_test['PRECIO_ALUM_IMP'][:6], forecast_[:6])\n",
    "# Calcular el Error Porcentual Absoluto Medio (MAPE)\n",
    "mape = mean_absolute_percentage_error(X_test['PRECIO_ALUM_IMP'][:6], forecast_[:6])\n",
    "# Calcular el Coeficiente de Determinación (R2)\n",
    "r2 = r2_score(X_test['PRECIO_ALUM_IMP'][:6], forecast_[:6])\n",
    "\n",
    "\n",
    "df_medidas_6.to_excel('C:/Users/nef_m/OneDrive/Desktop/DATOS TESIS MGO/medidas MA - 6.xlsx')\n",
    "\n",
    "mse_3 = mean_squared_error(X_test['PRECIO_ALUM_IMP'][:3], forecast_[:3])\n",
    "rmse_3 = np.sqrt(mse)\n",
    "mae_3 = mean_absolute_error(X_test['PRECIO_ALUM_IMP'][:3], forecast_[:3])\n",
    "mape_3 = mean_absolute_percentage_error(X_test['PRECIO_ALUM_IMP'][:3], forecast_[:3])\n",
    "r2_3 = r2_score(X_test['PRECIO_ALUM_IMP'][:3], forecast_[:3])\n",
    "# Convertir el diccionario en un DataFrame de pandas\n",
    "df_medidas = pd.DataFrame(medidas, index=[0])\n",
    "medidas_3 = {\n",
    "    'SERIE': 'MA',\n",
    "    'MSE': mse_3, \n",
    "    'RMSE': rmse_3, \n",
    "    'MAE': mae_3, \n",
    "    'MAPE': mape_3, \n",
    "    'R2': r2_3,\n",
    "}\n",
    "\n",
    "df_medidas_3.to_excel('C:/Users/nef_m/OneDrive/Desktop/DATOS TESIS MGO/medidas MA - 3.xlsx')\n",
    "\n",
    "mse_1 = mean_squared_error(X_test['PRECIO_ALUM_IMP'][:1], forecast_[:1])\n",
    "rmse_1 = np.sqrt(mse)\n",
    "mae_1 = mean_absolute_error(X_test['PRECIO_ALUM_IMP'][:1], forecast_[:1])\n",
    "mape_1 = mean_absolute_percentage_error(X_test['PRECIO_ALUM_IMP'][:1], forecast_[:1])\n",
    "r2_1 = r2_score(X_test['PRECIO_ALUM_IMP'][:1], forecast_[:1])\n",
    "\n",
    "medidas_1 = {\n",
    "    'SERIE': 'MA',\n",
    "    'MSE': mse_1, \n",
    "    'RMSE': rmse_1, \n",
    "    'MAE': mae_1, \n",
    "    'MAPE': mape_1, \n",
    "    'R2': r2_1,\n",
    "}\n",
    "df_medidas_1.to_excel('C:/Users/nef_m/OneDrive/Desktop/DATOS TESIS MGO/medidas MA - 1.xlsx')"
   ]
  },
  {
   "cell_type": "code",
   "execution_count": null,
   "id": "43d46a8a-cd98-4c58-9039-7e589146d11f",
   "metadata": {},
   "outputs": [],
   "source": [
    "print(forecast_)\n"
   ]
  }
 ],
 "metadata": {
  "kernelspec": {
   "display_name": "Python 3 (ipykernel)",
   "language": "python",
   "name": "python3"
  },
  "language_info": {
   "codemirror_mode": {
    "name": "ipython",
    "version": 3
   },
   "file_extension": ".py",
   "mimetype": "text/x-python",
   "name": "python",
   "nbconvert_exporter": "python",
   "pygments_lexer": "ipython3",
   "version": "3.12.0"
  }
 },
 "nbformat": 4,
 "nbformat_minor": 5
}
